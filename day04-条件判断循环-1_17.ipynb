{
 "cells": [
  {
   "cell_type": "markdown",
   "metadata": {},
   "source": [
    "### Python条件判断"
   ]
  },
  {
   "cell_type": "markdown",
   "metadata": {},
   "source": [
    "### if语句  \n",
    "计算机之所以能做很多自动化的任务，因为它可以自己做条件判断。  \n",
    "比如，输入用户年龄，根据年龄打印不同的内容，在Python程序中，用if语句实现：  "
   ]
  },
  {
   "cell_type": "code",
   "execution_count": 2,
   "metadata": {},
   "outputs": [
    {
     "name": "stdout",
     "output_type": "stream",
     "text": [
      "your age is 20\n",
      "adult\n"
     ]
    }
   ],
   "source": [
    "age = 20\n",
    "if age >= 18:\n",
    "    print(\"your age is\", age)\n",
    "    print('adult')"
   ]
  },
  {
   "cell_type": "markdown",
   "metadata": {},
   "source": [
    "注意不要少写了冒号:。  \n",
    "当然上面的判断是很粗略的，完全可以用elif做更细致的判断：  "
   ]
  },
  {
   "cell_type": "code",
   "execution_count": 4,
   "metadata": {},
   "outputs": [
    {
     "name": "stdout",
     "output_type": "stream",
     "text": [
      "kid\n"
     ]
    }
   ],
   "source": [
    "age = 3\n",
    "if age >= 18:\n",
    "    print(\"adult\")\n",
    "elif age >= 6:\n",
    "    print(\"teenager\")\n",
    "else:\n",
    "    print(\"kid\")"
   ]
  },
  {
   "cell_type": "markdown",
   "metadata": {},
   "source": [
    "elif是else if的缩写，完全可以有多个elif，所以if语句的完整形式就是："
   ]
  },
  {
   "cell_type": "raw",
   "metadata": {},
   "source": [
    "if <条件判断1>:  \n",
    "    <执行1>  \n",
    "elif <条件判断2>:  \n",
    "    <执行2>  \n",
    "elif <条件判断3>:  \n",
    "    <执行3>  \n",
    "else:  \n",
    "    <执行4>  "
   ]
  },
  {
   "cell_type": "markdown",
   "metadata": {},
   "source": [
    "if语句执行有个特点，它是从上往下判断，如果在某个判断上是True，  \n",
    "把该判断对应的语句执行后，就忽略掉剩下的elif和else，所以，  \n",
    "请测试并解释为什么下面的程序打印的是teenager：  "
   ]
  },
  {
   "cell_type": "code",
   "execution_count": 5,
   "metadata": {},
   "outputs": [
    {
     "name": "stdout",
     "output_type": "stream",
     "text": [
      "teenager\n"
     ]
    }
   ],
   "source": [
    "age = 20\n",
    "if age >= 6:\n",
    "    print('teenager')\n",
    "elif age >= 18:\n",
    "    print('adult')\n",
    "else:\n",
    "    print('kid')"
   ]
  },
  {
   "cell_type": "markdown",
   "metadata": {},
   "source": [
    "if判断条件还可以简写，比如写："
   ]
  },
  {
   "cell_type": "code",
   "execution_count": 7,
   "metadata": {},
   "outputs": [
    {
     "name": "stdout",
     "output_type": "stream",
     "text": [
      "True\n"
     ]
    }
   ],
   "source": [
    "x = 1\n",
    "if x:\n",
    "    print('True')"
   ]
  },
  {
   "cell_type": "markdown",
   "metadata": {},
   "source": [
    "只要x是非零数值、非空字符串、非空list等，就判断为True，否则为False。"
   ]
  },
  {
   "cell_type": "markdown",
   "metadata": {},
   "source": [
    "再议 input  \n",
    "最后看一个有问题的条件判断。很多同学会用input()读取用户的输入，这样可以自己输入，  \n",
    "程序运行得更有意思：  "
   ]
  },
  {
   "cell_type": "markdown",
   "metadata": {},
   "source": [
    "因为input()返回的数据类型是str，str不能直接和整数比较，必须先把str转换成整数。  \n",
    "Python提供了int()函数来完成这件事情："
   ]
  },
  {
   "cell_type": "code",
   "execution_count": 9,
   "metadata": {},
   "outputs": [
    {
     "name": "stdout",
     "output_type": "stream",
     "text": [
      "birth: 345\n",
      "00前\n"
     ]
    }
   ],
   "source": [
    "s = input('birth: ')\n",
    "birth = int(s)\n",
    "if birth < 2000:\n",
    "    print('00前')\n",
    "else:\n",
    "    print('00后')"
   ]
  },
  {
   "cell_type": "markdown",
   "metadata": {},
   "source": [
    "再次运行，就可以得到正确地结果。但是，如果输入abc呢？又会得到一个错误信息："
   ]
  },
  {
   "cell_type": "raw",
   "metadata": {},
   "source": [
    "Traceback (most recent call last):\n",
    "  File \"<stdin>\", line 1, in <module>\n",
    "ValueError: invalid literal for int() with base 10: 'abc'"
   ]
  },
  {
   "cell_type": "markdown",
   "metadata": {},
   "source": [
    "原来int()函数发现一个字符串并不是合法的数字时就会报错，程序就退出了。  \n",
    "如何检查并捕获程序运行期的错误呢？后面的错误和调试会讲到。  "
   ]
  },
  {
   "cell_type": "raw",
   "metadata": {},
   "source": [
    "小明身高1.75，体重80.5kg。请根据BMI公式（体重除以身高的平方）帮小明计算他的BMI指数，并根据BMI指数：\n",
    "\n",
    "低于18.5：过轻\n",
    "18.5-25：正常\n",
    "25-28：过重\n",
    "28-32：肥胖\n",
    "高于32：严重肥胖"
   ]
  },
  {
   "cell_type": "code",
   "execution_count": 13,
   "metadata": {},
   "outputs": [],
   "source": [
    "height = 1.75\n",
    "weight = 80.5"
   ]
  },
  {
   "cell_type": "code",
   "execution_count": 65,
   "metadata": {},
   "outputs": [
    {
     "name": "stdout",
     "output_type": "stream",
     "text": [
      "过重\n"
     ]
    }
   ],
   "source": [
    "bmi = 80.5/(1.75)**2\n",
    "if bmi>32:\n",
    "    print(\"严重肥胖\")\n",
    "elif  bmi>28 and bmi <= 32:\n",
    "    print(\"肥胖\")\n",
    "elif bmi>25 and bmi <= 28:\n",
    "    print(\"过重\")\n",
    "elif bmi >=18.5 and bmi<= 25:\n",
    "    print(\"正常\")\n",
    "else:\n",
    "    print(\"过轻\")\n",
    "    "
   ]
  },
  {
   "cell_type": "markdown",
   "metadata": {},
   "source": [
    "### 练习"
   ]
  },
  {
   "cell_type": "code",
   "execution_count": 17,
   "metadata": {},
   "outputs": [
    {
     "name": "stdout",
     "output_type": "stream",
     "text": [
      "luren\n"
     ]
    }
   ],
   "source": [
    "# coding=utf8\n",
    "# 例1：if 基本用法\n",
    "\n",
    "flag = False\n",
    "name = 'luren'\n",
    "if name == 'python': # 判断变量否为'python'\n",
    "    flag == True          # 条件成立时设置标志为真\n",
    "    print('welcome boss')    # 并输出欢迎信息\n",
    "else:\n",
    "    print (name)              # 条件不成立时输出变量名称"
   ]
  },
  {
   "cell_type": "code",
   "execution_count": 19,
   "metadata": {},
   "outputs": [
    {
     "name": "stdout",
     "output_type": "stream",
     "text": [
      "roadman\n"
     ]
    }
   ],
   "source": [
    "# 例2：elif用法\n",
    " \n",
    "num = 5     \n",
    "if num == 3:            # 判断num的值\n",
    "    print('boss')        \n",
    "elif num == 2:\n",
    "    print ('user')\n",
    "elif num == 1:\n",
    "    print ('worker')\n",
    "elif num < 0:           # 值小于零时输出\n",
    "    print ('error')\n",
    "else:\n",
    "    print ('roadman')     # 条件均不成立时输出"
   ]
  },
  {
   "cell_type": "code",
   "execution_count": 22,
   "metadata": {},
   "outputs": [
    {
     "name": "stdout",
     "output_type": "stream",
     "text": [
      "变量 var 的值为100\n",
      "Good bye!\n"
     ]
    }
   ],
   "source": [
    "# var = 100 \n",
    " \n",
    "# if ( var  == 100 ) : print (\"变量 var 的值为100\" )\n",
    " \n",
    "# print (\"Good bye!\") "
   ]
  },
  {
   "cell_type": "markdown",
   "metadata": {},
   "source": [
    "猜拳游戏"
   ]
  },
  {
   "cell_type": "code",
   "execution_count": 28,
   "metadata": {},
   "outputs": [
    {
     "name": "stdout",
     "output_type": "stream",
     "text": [
      "输入 石头、剪子、布,输入\"end\"结束游戏:end\n",
      "\n",
      "游戏退出中...\n"
     ]
    }
   ],
   "source": [
    "import random\n",
    "while 1:\n",
    "    s = int(random.randint(1, 3))\n",
    "    if s == 1:\n",
    "        ind = \"石头\"\n",
    "    elif s == 2:\n",
    "        ind = \"剪子\"\n",
    "    elif s == 3:\n",
    "        ind = \"布\"\n",
    "    m = input('输入 石头、剪子、布,输入\"end\"结束游戏:')\n",
    "    blist = ['石头', \"剪子\", \"布\"]\n",
    "    if (m not in blist) and (m != 'end'):\n",
    "        print (\"输入错误，请重新输入！\")\n",
    "    elif (m not in blist) and (m == 'end'):\n",
    "        print (\"\\n游戏退出中...\")\n",
    "        break\n",
    "    elif m == ind :\n",
    "        print (\"电脑出了： \" + ind + \"，平局！\")\n",
    "    elif (m == '石头' and ind =='剪子') or (m == '剪子' and ind =='布') or (m == '布' and ind =='石头'):\n",
    "        print (\"电脑出了： \" + ind +\"，你赢了！\")\n",
    "    elif (m == '石头' and ind =='布') or (m == '剪子' and ind =='石头') or (m == '布' and ind =='剪子'):\n",
    "        print (\"电脑出了： \" + ind +\"，你输了！\")"
   ]
  },
  {
   "cell_type": "markdown",
   "metadata": {},
   "source": [
    "猜数字游戏"
   ]
  },
  {
   "cell_type": "code",
   "execution_count": 29,
   "metadata": {},
   "outputs": [
    {
     "name": "stdout",
     "output_type": "stream",
     "text": [
      "Guess the number!\n",
      "Is it... 7\n",
      "Hooray! You guessed it right!\n"
     ]
    }
   ],
   "source": [
    "#!/usr/bin/python3 \n",
    "# 该实例演示了数字猜谜游戏\n",
    "number = 7\n",
    "guess = -1\n",
    "print(\"Guess the number!\")\n",
    "while guess != number:\n",
    "    guess = int(input(\"Is it... \"))\n",
    " \n",
    "    if guess == number:\n",
    "        print(\"Hooray! You guessed it right!\")\n",
    "    elif guess < number:        \n",
    "        print(\"It's bigger...\") \n",
    "    elif guess > number:\n",
    "        print(\"It's not so big.\")"
   ]
  },
  {
   "cell_type": "markdown",
   "metadata": {},
   "source": [
    "### for 循环"
   ]
  },
  {
   "cell_type": "code",
   "execution_count": 30,
   "metadata": {},
   "outputs": [
    {
     "name": "stdout",
     "output_type": "stream",
     "text": [
      "Michael\n",
      "Bob\n",
      "Tracy\n"
     ]
    }
   ],
   "source": [
    "names = ['Michael', 'Bob', 'Tracy']\n",
    "for name in names:\n",
    "    print(name)"
   ]
  },
  {
   "cell_type": "code",
   "execution_count": 31,
   "metadata": {},
   "outputs": [
    {
     "name": "stdout",
     "output_type": "stream",
     "text": [
      "55\n"
     ]
    }
   ],
   "source": [
    "sum = 0\n",
    "for x in [1, 2, 3, 4, 5, 6, 7, 8, 9, 10]:\n",
    "    sum = sum + x\n",
    "print(sum)"
   ]
  },
  {
   "cell_type": "code",
   "execution_count": 32,
   "metadata": {},
   "outputs": [
    {
     "data": {
      "text/plain": [
       "range(0, 5)"
      ]
     },
     "execution_count": 32,
     "metadata": {},
     "output_type": "execute_result"
    }
   ],
   "source": [
    "range(5)"
   ]
  },
  {
   "cell_type": "code",
   "execution_count": 33,
   "metadata": {},
   "outputs": [
    {
     "data": {
      "text/plain": [
       "[0, 1, 2, 3, 4]"
      ]
     },
     "execution_count": 33,
     "metadata": {},
     "output_type": "execute_result"
    }
   ],
   "source": [
    "list(range(5))"
   ]
  },
  {
   "cell_type": "markdown",
   "metadata": {},
   "source": [
    "计算100以内所有奇数之和"
   ]
  },
  {
   "cell_type": "code",
   "execution_count": 34,
   "metadata": {},
   "outputs": [
    {
     "name": "stdout",
     "output_type": "stream",
     "text": [
      "2500\n"
     ]
    }
   ],
   "source": [
    "sum = 0\n",
    "n = 99\n",
    "while n > 0:\n",
    "    sum = sum + n\n",
    "    n = n - 2\n",
    "print(sum)"
   ]
  },
  {
   "cell_type": "code",
   "execution_count": 61,
   "metadata": {},
   "outputs": [
    {
     "name": "stdout",
     "output_type": "stream",
     "text": [
      "Hello, Bart!\n",
      "Hello, Lisa!\n",
      "Hello, Adam!\n"
     ]
    }
   ],
   "source": [
    "L = ['Bart', 'Lisa', 'Adam']\n",
    "for i in L:\n",
    "#     print(\"Hello, \"+i+\"!\")\n",
    "#     print(\"Hello, %s!\" % i)\n",
    "    print(\"Hello, {0}!\".format(i))"
   ]
  },
  {
   "cell_type": "code",
   "execution_count": 63,
   "metadata": {},
   "outputs": [
    {
     "data": {
      "text/plain": [
       "['Hello ,Bart', 'Hello ,Lisa', 'Hello ,Adam']"
      ]
     },
     "execution_count": 63,
     "metadata": {},
     "output_type": "execute_result"
    }
   ],
   "source": [
    "# L = ['Bart', 'Lisa', 'Adam']\n",
    "# [\"Hello ,\"+i for i in L]"
   ]
  },
  {
   "cell_type": "code",
   "execution_count": 68,
   "metadata": {},
   "outputs": [
    {
     "data": {
      "text/plain": [
       "'Hello ,Bart Hello ,Lisa Hello ,Adam'"
      ]
     },
     "execution_count": 68,
     "metadata": {},
     "output_type": "execute_result"
    }
   ],
   "source": [
    "# \" \".join([\"Hello ,\"+i for i in L ])"
   ]
  },
  {
   "cell_type": "markdown",
   "metadata": {},
   "source": [
    "- break  \n",
    "在循环中，break语句可以提前退出循环。例如，本来要循环打印1～100的数字："
   ]
  },
  {
   "cell_type": "code",
   "execution_count": 80,
   "metadata": {},
   "outputs": [
    {
     "name": "stdout",
     "output_type": "stream",
     "text": [
      "1 \t 2 \t 3 \t 4 \t 5 \t 6 \t 7 \t 8 \t 9 \t 10 \t \n",
      "11 \t 12 \t 13 \t 14 \t 15 \t 16 \t 17 \t 18 \t 19 \t 20 \t \n",
      "21 \t 22 \t 23 \t 24 \t 25 \t 26 \t 27 \t 28 \t 29 \t 30 \t \n",
      "31 \t 32 \t 33 \t 34 \t 35 \t 36 \t 37 \t 38 \t 39 \t 40 \t \n",
      "41 \t 42 \t 43 \t 44 \t 45 \t 46 \t 47 \t 48 \t 49 \t 50 \t \n",
      "51 \t 52 \t 53 \t 54 \t 55 \t 56 \t 57 \t 58 \t 59 \t 60 \t \n",
      "61 \t 62 \t 63 \t 64 \t 65 \t 66 \t 67 \t 68 \t 69 \t 70 \t \n",
      "71 \t 72 \t 73 \t 74 \t 75 \t 76 \t 77 \t 78 \t 79 \t 80 \t \n",
      "81 \t 82 \t 83 \t 84 \t 85 \t 86 \t 87 \t 88 \t 89 \t 90 \t \n",
      "91 \t 92 \t 93 \t 94 \t 95 \t 96 \t 97 \t 98 \t 99 \t 100 \t \n",
      "END\n"
     ]
    }
   ],
   "source": [
    "n = 1\n",
    "while n <= 100:\n",
    "    print(n,\"\\t\",end=\" \")\n",
    "    if n%10 == 0:\n",
    "        print(\"\")\n",
    "    n = n + 1\n",
    "print('END')"
   ]
  },
  {
   "cell_type": "markdown",
   "metadata": {},
   "source": [
    "- continue  \n",
    "在循环过程中，也可以通过continue语句，跳过当前的这次循环，直接开始下一次循环。  "
   ]
  },
  {
   "cell_type": "markdown",
   "metadata": {},
   "source": [
    "如果我们想只打印奇数，可以用continue语句跳过某些循环："
   ]
  },
  {
   "cell_type": "code",
   "execution_count": 83,
   "metadata": {},
   "outputs": [
    {
     "name": "stdout",
     "output_type": "stream",
     "text": [
      "1 3 5 7 9 "
     ]
    }
   ],
   "source": [
    "n = 0\n",
    "while n < 10:\n",
    "    n = n + 1\n",
    "    if n % 2 == 0: # 如果n是偶数，执行continue语句\n",
    "        continue # continue语句会直接继续下一轮循环，后续的print()语句不会执行\n",
    "    print(n,end=\" \")"
   ]
  },
  {
   "cell_type": "markdown",
   "metadata": {},
   "source": [
    "- 小结  \n",
    "循环是让计算机做重复任务的有效的方法。  \n",
    "break语句可以在循环过程中直接退出循环，而continue语句可以提前结束本轮循环，  \n",
    "并直接开始下一轮循环。这两个语句通常都必须配合if语句使用。  \n",
    "要特别注意，不要滥用break和continue语句。break和continue会造成代码执行逻辑分叉过多，  \n",
    "容易出错。  "
   ]
  },
  {
   "cell_type": "markdown",
   "metadata": {},
   "source": [
    "- 嵌套循环"
   ]
  },
  {
   "cell_type": "markdown",
   "metadata": {},
   "source": [
    "以下实例使用了嵌套循环输出2~100之间的素数："
   ]
  },
  {
   "cell_type": "code",
   "execution_count": 88,
   "metadata": {},
   "outputs": [
    {
     "name": "stdout",
     "output_type": "stream",
     "text": [
      "2  是素数\n",
      "3  是素数\n",
      "5  是素数\n",
      "7  是素数\n",
      "11  是素数\n",
      "13  是素数\n",
      "17  是素数\n",
      "19  是素数\n",
      "23  是素数\n",
      "29  是素数\n",
      "31  是素数\n",
      "37  是素数\n",
      "41  是素数\n",
      "43  是素数\n",
      "47  是素数\n",
      "53  是素数\n",
      "59  是素数\n",
      "61  是素数\n",
      "67  是素数\n",
      "71  是素数\n",
      "73  是素数\n",
      "79  是素数\n",
      "83  是素数\n",
      "89  是素数\n",
      "97  是素数\n",
      "Good bye!\n"
     ]
    }
   ],
   "source": [
    "i = 2\n",
    "while(i < 100):\n",
    "   j = 2\n",
    "   while(j <= (i/j)):\n",
    "      if not(i%j): \n",
    "        break\n",
    "      j = j + 1\n",
    "   if (j > i/j):\n",
    "        print(i, \" 是素数\")\n",
    "   i = i + 1\n",
    "print(\"Good bye!\")"
   ]
  },
  {
   "cell_type": "code",
   "execution_count": 89,
   "metadata": {},
   "outputs": [
    {
     "name": "stdout",
     "output_type": "stream",
     "text": [
      "[2, 3, 5, 7, 11, 13, 17, 19, 23, 29, 31, 37, 41, 43, 47, 53, 59, 61, 67, 71, 73, 79, 83, 89, 97]\n"
     ]
    }
   ],
   "source": [
    "num=[];\n",
    "i=2\n",
    "for i in range(2,100):\n",
    "   j=2\n",
    "   for j in range(2,i):\n",
    "      if(i%j==0):\n",
    "         break\n",
    "   else:\n",
    "      num.append(i)\n",
    "print(num)"
   ]
  },
  {
   "cell_type": "code",
   "execution_count": 90,
   "metadata": {},
   "outputs": [
    {
     "name": "stdout",
     "output_type": "stream",
     "text": [
      "*\n",
      "**\n",
      "***\n",
      "****\n",
      "*****\n",
      "****\n",
      "***\n",
      "**\n",
      "*\n",
      "\n"
     ]
    }
   ],
   "source": [
    "#*字塔\n",
    "i=1\n",
    "#j=1\n",
    "while i<=9:\n",
    "   if i<=5:\n",
    "      print (\"*\"*i)\n",
    "\n",
    "   elif i<=9 :\n",
    "      j=i-2*(i-5)\n",
    "      print(\"*\"*j)\n",
    "   i+=1\n",
    "else :\n",
    "   print(\"\")"
   ]
  },
  {
   "cell_type": "markdown",
   "metadata": {},
   "source": [
    "for 循环练习"
   ]
  },
  {
   "cell_type": "markdown",
   "metadata": {},
   "source": [
    "<font color = 'red'>另外一种执行循环的遍历方式是通过索引</font>"
   ]
  },
  {
   "cell_type": "code",
   "execution_count": 93,
   "metadata": {},
   "outputs": [
    {
     "name": "stdout",
     "output_type": "stream",
     "text": [
      "当前水果 : banana\n",
      "当前水果 : apple\n",
      "当前水果 : mango\n",
      "Good bye!\n"
     ]
    }
   ],
   "source": [
    "fruits = ['banana', 'apple',  'mango']\n",
    "for index in range(len(fruits)):\n",
    "   print('当前水果 :', fruits[index])\n",
    "\n",
    "print(\"Good bye!\")"
   ]
  },
  {
   "cell_type": "markdown",
   "metadata": {},
   "source": [
    "循环使用 else 语句  \n",
    "在 python 中，for … else 表示这样的意思，for 中的语句和普通的没有区别，  \n",
    "else 中的语句会在循环正常执行完（即 for 不是通过 break 跳出而中断的）的情况下执行，  \n",
    "while … else 也是一样。  "
   ]
  },
  {
   "cell_type": "code",
   "execution_count": 94,
   "metadata": {},
   "outputs": [
    {
     "name": "stdout",
     "output_type": "stream",
     "text": [
      "10 等于 2 * 5\n",
      "11 是一个质数\n",
      "12 等于 2 * 6\n",
      "13 是一个质数\n",
      "14 等于 2 * 7\n",
      "15 等于 3 * 5\n",
      "16 等于 2 * 8\n",
      "17 是一个质数\n",
      "18 等于 2 * 9\n",
      "19 是一个质数\n"
     ]
    }
   ],
   "source": [
    "for num in range(10,20):  # 迭代 10 到 20 之间的数字\n",
    "   for i in range(2,num): # 根据因子迭代\n",
    "      if num%i == 0:      # 确定第一个因子\n",
    "         j=num/i          # 计算第二个因子\n",
    "         print('%d 等于 %d * %d' % (num,i,j))\n",
    "         break            # 跳出当前循环\n",
    "   else:                  # 循环的 else 部分\n",
    "      print (num, '是一个质数')"
   ]
  },
  {
   "cell_type": "markdown",
   "metadata": {},
   "source": [
    "打印1-9三角形阵列："
   ]
  },
  {
   "cell_type": "code",
   "execution_count": 100,
   "metadata": {},
   "outputs": [
    {
     "name": "stdout",
     "output_type": "stream",
     "text": [
      "\n",
      "\n",
      "1 \n",
      "\n",
      "1 2 \n",
      "\n",
      "1 2 3 \n",
      "\n",
      "1 2 3 4 \n",
      "\n",
      "1 2 3 4 5 \n",
      "\n",
      "1 2 3 4 5 6 \n",
      "\n",
      "1 2 3 4 5 6 7 \n",
      "\n",
      "1 2 3 4 5 6 7 8 \n",
      "\n",
      "1 2 3 4 5 6 7 8 9 \n",
      "\n"
     ]
    }
   ],
   "source": [
    "for i in range(1,11):\n",
    "    for k in range(1,i):\n",
    "        print(k,end=\" \")\n",
    "    print(\"\\n\")"
   ]
  },
  {
   "cell_type": "code",
   "execution_count": 103,
   "metadata": {},
   "outputs": [
    {
     "name": "stdout",
     "output_type": "stream",
     "text": [
      "输入行数：4\n",
      "             *              \n",
      "         *       *          \n",
      "     *               *      \n",
      " *       *       *       *  \n"
     ]
    }
   ],
   "source": [
    "# 打印空心等边三角形 \n",
    "rows = int(input('输入行数：'))\n",
    "for i in range(0, rows):\n",
    "    for k in range(0, 2 * rows - 1):\n",
    "        if (i != rows - 1) and (k == rows - i - 1 or k == rows + i - 1):\n",
    "            print (\" * \",end=\" \")\n",
    "        elif i == rows - 1:\n",
    "            if k % 2 == 0:\n",
    "                print(\" * \",end=\" \")\n",
    "            else:\n",
    "                print (\"   \",end=\" \")\n",
    "        else:\n",
    "            print (\"   \",end=\" \")\n",
    "    print(\"\")"
   ]
  },
  {
   "cell_type": "markdown",
   "metadata": {},
   "source": [
    "for实例中使用了 break语句，break语句用于跳出当前循环体："
   ]
  },
  {
   "cell_type": "code",
   "execution_count": 104,
   "metadata": {},
   "outputs": [
    {
     "name": "stdout",
     "output_type": "stream",
     "text": [
      "Great, delicious ham\n",
      "No more spam please!\n",
      "Finally, I finished stuffing myself\n"
     ]
    }
   ],
   "source": [
    "edibles = [\"ham\", \"spam\",\"eggs\",\"nuts\"]\n",
    "for food in edibles:\n",
    "    if food == \"spam\":\n",
    "        print(\"No more spam please!\")\n",
    "        break\n",
    "    print(\"Great, delicious \" + food)\n",
    "else:\n",
    "    print(\"I am so glad: No spam!\")\n",
    "print(\"Finally, I finished stuffing myself\")"
   ]
  },
  {
   "cell_type": "markdown",
   "metadata": {},
   "source": [
    "- range()函数"
   ]
  },
  {
   "cell_type": "markdown",
   "metadata": {},
   "source": [
    "如果你需要遍历数字序列，可以使用内置range()函数。它会生成数列，例如:"
   ]
  },
  {
   "cell_type": "code",
   "execution_count": 107,
   "metadata": {},
   "outputs": [
    {
     "name": "stdout",
     "output_type": "stream",
     "text": [
      "0 1 2 3 4 "
     ]
    }
   ],
   "source": [
    "for i in range(5):\n",
    "     print(i,end=\" \")"
   ]
  },
  {
   "cell_type": "code",
   "execution_count": 108,
   "metadata": {},
   "outputs": [
    {
     "name": "stdout",
     "output_type": "stream",
     "text": [
      "5 6 7 8 "
     ]
    }
   ],
   "source": [
    "for i in range(5,9) :\n",
    "       print(i,end=\" \")"
   ]
  },
  {
   "cell_type": "code",
   "execution_count": 110,
   "metadata": {},
   "outputs": [
    {
     "name": "stdout",
     "output_type": "stream",
     "text": [
      "0 3 6 9 "
     ]
    }
   ],
   "source": [
    "for i in range(0, 10, 3) :\n",
    "    print(i,end=\" \")"
   ]
  },
  {
   "cell_type": "code",
   "execution_count": 112,
   "metadata": {},
   "outputs": [
    {
     "name": "stdout",
     "output_type": "stream",
     "text": [
      "-10 -40 -70 "
     ]
    }
   ],
   "source": [
    "for i in range(-10, -100, -30) :\n",
    "    print(i,end=\" \")"
   ]
  },
  {
   "cell_type": "markdown",
   "metadata": {},
   "source": [
    "<font color = 'color'>**您可以结合range()和len()函数以遍历一个序列的索引,如下所示:**</font>"
   ]
  },
  {
   "cell_type": "code",
   "execution_count": 113,
   "metadata": {},
   "outputs": [
    {
     "name": "stdout",
     "output_type": "stream",
     "text": [
      "0 Mary\n",
      "1 had\n",
      "2 a\n",
      "3 little\n",
      "4 lamb\n"
     ]
    }
   ],
   "source": [
    "a = ['Mary', 'had', 'a', 'little', 'lamb']\n",
    "for i in range(len(a)):\n",
    "     print(i, a[i])"
   ]
  },
  {
   "cell_type": "markdown",
   "metadata": {},
   "source": [
    "还可以使用range()函数来创建一个列表："
   ]
  },
  {
   "cell_type": "code",
   "execution_count": 114,
   "metadata": {},
   "outputs": [
    {
     "data": {
      "text/plain": [
       "[0, 1, 2, 3, 4]"
      ]
     },
     "execution_count": 114,
     "metadata": {},
     "output_type": "execute_result"
    }
   ],
   "source": [
    "list(range(5))\n",
    "[0, 1, 2, 3, 4]"
   ]
  },
  {
   "cell_type": "markdown",
   "metadata": {},
   "source": [
    "break和continue语句及循环中的else子句  \n",
    "break语句可以跳出for和while的循环体。如果你从for或while循环中终止，  \n",
    "任何对应的循环else块将不执行。  \n",
    "continue语句被用来告诉Python跳过当前循环块中的剩余语句，然后继续进行下一轮循环。  \n",
    "循环语句可以有else子句;它在穷尽列表(以for循环)或条件变为假(以while循环)循环终止时被执行, <font color = 'red'>**但循环被break终止时不执行**</font>.如下查寻质数的循环例子:  "
   ]
  },
  {
   "cell_type": "code",
   "execution_count": 115,
   "metadata": {},
   "outputs": [
    {
     "name": "stdout",
     "output_type": "stream",
     "text": [
      "2 is a prime number\n",
      "3 is a prime number\n",
      "4 equals 2 * 2\n",
      "5 is a prime number\n",
      "6 equals 2 * 3\n",
      "7 is a prime number\n",
      "8 equals 2 * 4\n",
      "9 equals 3 * 3\n"
     ]
    }
   ],
   "source": [
    "for n in range(2, 10):\n",
    "     for x in range(2, n):\n",
    "         if n % x == 0:\n",
    "             print(n, 'equals', x, '*', n//x)\n",
    "             break\n",
    "     else:\n",
    "         # 循环中没有找到元素\n",
    "         print(n, 'is a prime number')"
   ]
  },
  {
   "cell_type": "code",
   "execution_count": null,
   "metadata": {},
   "outputs": [],
   "source": []
  }
 ],
 "metadata": {
  "kernelspec": {
   "display_name": "Python 3",
   "language": "python",
   "name": "python3"
  },
  "language_info": {
   "codemirror_mode": {
    "name": "ipython",
    "version": 3
   },
   "file_extension": ".py",
   "mimetype": "text/x-python",
   "name": "python",
   "nbconvert_exporter": "python",
   "pygments_lexer": "ipython3",
   "version": "3.6.5"
  }
 },
 "nbformat": 4,
 "nbformat_minor": 2
}
