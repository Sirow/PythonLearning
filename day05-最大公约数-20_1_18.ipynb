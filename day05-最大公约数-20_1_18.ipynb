{
 "cells": [
  {
   "cell_type": "markdown",
   "metadata": {},
   "source": [
    "### 最大公约数  \n",
    "**这是最后一次总结这破玩意 博客记录，以后都不会在看**  \n",
    "### <font color='green'>附上：最小公倍数=输入整数的乘积//最大公约数</font>"
   ]
  },
  {
   "cell_type": "markdown",
   "metadata": {},
   "source": [
    "- 1.穷举法  \n",
    "思想：num1,num2的因数全部找到，期中相同的且最大的即为两数的最大公因数  \n",
    "思想改进：直接从num1和num2中较小的数的值开始到1，一个个验证  "
   ]
  },
  {
   "cell_type": "raw",
   "metadata": {},
   "source": [
    "① i= a(或b)  \n",
    "\n",
    "② 若a，b能同时被i整除，则i即为最大公约数，结束  \n",
    "\n",
    "③ i–，再回去执行②  "
   ]
  },
  {
   "cell_type": "raw",
   "metadata": {},
   "source": [
    "a,b = 4, 8\n",
    "for i in range(min(a,b), 0, -1): #从两数中小的一个开始到1，一个个验证\n",
    "    if n % i == 0 and m % i ==0: #如果能够被两数同时整除\n",
    "        print(i) #输出该数后不再循环\n",
    "        break"
   ]
  },
  {
   "cell_type": "code",
   "execution_count": 21,
   "metadata": {},
   "outputs": [],
   "source": [
    "def gcd(a,b):\n",
    "    for i in range(min(a,b), 0, -1):\n",
    "        if a % i ==0 and a % i==0:\n",
    "            return i"
   ]
  },
  {
   "cell_type": "code",
   "execution_count": 22,
   "metadata": {},
   "outputs": [
    {
     "name": "stdout",
     "output_type": "stream",
     "text": [
      "2 22\n"
     ]
    }
   ],
   "source": [
    "print(gcd(2,8),gcd(22,44))"
   ]
  },
  {
   "cell_type": "markdown",
   "metadata": {},
   "source": [
    "- 2 辗转相除法(欧几里得)   \n",
    "思想：(a,b)和(b,a mod b)的公约数是一样的 "
   ]
  },
  {
   "cell_type": "code",
   "execution_count": 43,
   "metadata": {},
   "outputs": [],
   "source": [
    "# 证明：\n",
    "# a可以表示成a = kb + r,则r = a mod b\n",
    "# 假设d是a,b的一个公约数,则有\n",
    "# d|a, d|b,而r = a - kb,因此d|r\n",
    "# 因此d是(b,a mod b)的公约数\n",
    "\n",
    "# 假设d 是(b,a mod b)的公约数,则\n",
    "# d | b , d |r ,但是a = kb +r\n",
    "# 因此d也是(a,b)的公约数\n",
    "\n",
    "# 因此(a,b)和(b,a mod b)的公约数是一样的,其最大公约数也必然相等,得证."
   ]
  },
  {
   "cell_type": "code",
   "execution_count": 44,
   "metadata": {},
   "outputs": [],
   "source": [
    "#欧几里得\n",
    "def gcd1(a1,b1):\n",
    "    if a1<b1:             #如果a<b，则交换两数位置，否则不交换\n",
    "        a1,b1 = b1,a1\n",
    "    r = a1 % b1           #求a/b的余数\n",
    "    while r != 0:        #在余数不为零时，始终进行交换和相除\n",
    "        a1,b1 = b1,r \n",
    "        r = a1 % b1\n",
    "    return b1             #余数为零后，打印输出b"
   ]
  },
  {
   "cell_type": "code",
   "execution_count": 45,
   "metadata": {},
   "outputs": [
    {
     "name": "stdout",
     "output_type": "stream",
     "text": [
      "22\n"
     ]
    }
   ],
   "source": [
    "print(gcd1(22,44))"
   ]
  },
  {
   "cell_type": "markdown",
   "metadata": {},
   "source": [
    "- 2.1辗转相处递归写法：  \n",
    "看思路即可:以下3个思路都对\n",
    "是不是觉得还可以，1，2都有bug，除数为0，采取3    \n",
    "递归主要注意退出条件      \n",
    "  \n",
    "<font color='red'>**总结：3就是核心gcd代码，以后都用它即可。这是欧几里得式，据说致命缺点只有在很大素数是才会体现，那时用减法(stein算法)**</font>"
   ]
  },
  {
   "cell_type": "code",
   "execution_count": 46,
   "metadata": {},
   "outputs": [
    {
     "name": "stdout",
     "output_type": "stream",
     "text": [
      "11\n"
     ]
    }
   ],
   "source": [
    "#1\n",
    "def gcd2(n1,n2):\n",
    "    \"\"\"greatest common divisor function \"\"\"\n",
    "    if(n1%n2 == 0):\n",
    "        return n2\n",
    "    return gcd(n2,n1%n2)\n",
    "print(gcd2(44,33)) #44，0"
   ]
  },
  {
   "cell_type": "code",
   "execution_count": 42,
   "metadata": {},
   "outputs": [
    {
     "name": "stdout",
     "output_type": "stream",
     "text": [
      "11\n"
     ]
    }
   ],
   "source": [
    "#2.\n",
    "def commonDivisor1(num1,num2):\n",
    "    if num1 < num2:\n",
    "        temp = num1\n",
    "        num1 = num2\n",
    "        num2 = temp\n",
    "         \n",
    "    if  num1%num2 ==0:\n",
    "        return num2\n",
    "    else:\n",
    "        num2 = num1%num2\n",
    "        return commonDivisor1(num1,num2) #num1改成num2\n",
    "print(commonDivisor1(44,33)) #44，0"
   ]
  },
  {
   "cell_type": "code",
   "execution_count": 47,
   "metadata": {},
   "outputs": [
    {
     "name": "stdout",
     "output_type": "stream",
     "text": [
      "44\n"
     ]
    }
   ],
   "source": [
    "#3.写了辣么多，其实就搞明白这段即可\n",
    "def gcd4(a, b):\n",
    "    if b == 0:return a\n",
    "    return gcd4(b, a % b)\n",
    "print(gcd4(44,0))"
   ]
  },
  {
   "cell_type": "markdown",
   "metadata": {},
   "source": [
    "- 3 Stein算法  \n",
    "描述：欧几里德算法是计算两个数最大公约数的传统算法，无论是理论，还是从效率上都是很好的。但是他有一个致命的缺陷，这个缺陷只有在很大的素数时才会显现出来。Stein算法由J.Stein 1961年提出，这个方法也是计算两个数的最大公约数。和欧几里德算法不同的是，Stein算法只有整数的移位和加减法，这对于程序设计者是一个福音。  \n",
    "为了说明Stein算法的正确性，首先必须注意到以下结论：  \n",
    "  gcd(a, a) = a， 也就是一个数和他自己的公约数是其自身。  \n",
    "  gcd(ka, kb) = k * gcd(a, b)，也就是最大公约数运算和倍乘运算可以交换，特殊的，当k=2时，说明两个偶数的最大公约数比如能被2整除。    "
   ]
  },
  {
   "cell_type": "code",
   "execution_count": 49,
   "metadata": {},
   "outputs": [
    {
     "name": "stdout",
     "output_type": "stream",
     "text": [
      "44\n"
     ]
    }
   ],
   "source": [
    "def gcd_Stein(a, b):  \n",
    "  if a < b:\n",
    "    a, b = b, a\n",
    "  if (0 == b):\n",
    "    return a\n",
    "  if a % 2 == 0 and b % 2 == 0:\n",
    "    return 2 * gcd_Stein(a/2, b/2)\n",
    "  if a % 2 == 0:\n",
    "    return gcd_Stein(a / 2, b)\n",
    "  if b % 2 == 0:\n",
    "    return gcd_Stein(a, b / 2)\n",
    "   \n",
    "  return gcd_Stein((a + b) / 2, (a - b) / 2) \n",
    "print(gcd_Stein(44,0))"
   ]
  },
  {
   "cell_type": "code",
   "execution_count": null,
   "metadata": {},
   "outputs": [],
   "source": []
  }
 ],
 "metadata": {
  "kernelspec": {
   "display_name": "Python 3",
   "language": "python",
   "name": "python3"
  },
  "language_info": {
   "codemirror_mode": {
    "name": "ipython",
    "version": 3
   },
   "file_extension": ".py",
   "mimetype": "text/x-python",
   "name": "python",
   "nbconvert_exporter": "python",
   "pygments_lexer": "ipython3",
   "version": "3.6.5"
  }
 },
 "nbformat": 4,
 "nbformat_minor": 2
}
